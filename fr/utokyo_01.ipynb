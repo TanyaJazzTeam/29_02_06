{
  "cells": [
    {
      "cell_type": "markdown",
      "metadata": {
      },
      "source": [
        "# UTokyo 01 - Introduction à l'informatique quantique à court terme"
      ]
    },
    {
      "cell_type": "markdown",
      "metadata": {
      },
      "source": [
        "## Aperçu\n",
        "\n",
        "**L'Université de Tokyo** <br>\n",
        "**Introduction à l'informatique quantique à court terme**<br>\n",
        "**量子計算論**\n",
        "\n",
        "<br>\n",
        "\n",
        "**Unité 1 : Bienvenue dans l'introduction à l'informatique quantique à court terme !**\n",
        "\n",
        "Cette série de questions est basée sur le contenu suivant :\n",
        "\n",
        "- [VIDÉO : Comprendre l'information et le calcul quantiques | Leçon 1 (John Watrous)](https://youtu.be/3-c4xJa7Flk)\n",
        "- [MANUEL : Systèmes uniques de bases de l'information quantique](https://learn.qiskit.org/course/basics/single-systems)\n",
        "\n",
        "Veuillez vous référer au [programme en ligne](https://learn.qiskit.org/syllabus/RBD-9TW) pour plus d'informations."
      ]
    },
    {
      "cell_type": "markdown",
      "metadata": {
      },
      "source": [
        "<!-- ::: q-block.exercise -->\n",
        "\n",
        "### Questionnaire rapide\n",
        "\n",
        "<!-- ::: q-quiz(goal=\"utokyo_01_0\") -->\n",
        "\n",
        "<!-- ::: .question -->\n",
        "\n",
        "Prêt pour votre quizz ?\n",
        "\n",
        "<!-- ::: -->\n",
        "\n",
        "<!-- ::: .option(correct) -->\n",
        "\n",
        "1. Oui allons-y!\n",
        "\n",
        "<!-- ::: -->\n",
        "\n",
        "<!-- ::: .option -->\n",
        "\n",
        "1. Pas encore, je dois regarder la vidéo et relire le manuel.\n",
        "\n",
        "<!-- ::: -->\n",
        "\n",
        "<!-- ::: -->"
      ]
    },
    {
      "cell_type": "markdown",
      "metadata": {
      },
      "source": [
        "## Questionnaire 1-1"
      ]
    },
    {
      "cell_type": "markdown",
      "metadata": {
      },
      "source": [
        "<!-- ::: q-block.exercise -->\n",
        "\n",
        "### Questionnaire 1-1\n",
        "\n",
        "<!-- ::: q-quiz(goal=\"utokyo_01_1\") -->\n",
        "\n",
        "<!-- ::: .question -->\n",
        "\n",
        "Lequel des éléments suivants est un vecteur de probabilité ?\n",
        "\n",
        "<!-- ::: -->\n",
        "\n",
        "<!-- ::: .option -->\n",
        "\n",
        "$\\begin{pmatrix} \\sqrt{2}\\\\ 1 - \\sqrt{2} \\end{pmatrix}$\n",
        "\n",
        "<!-- ::: -->\n",
        "\n",
        "<!-- ::: .option -->\n",
        "\n",
        "$\\begin{pmatrix} 0.4 \\\\ 0.4 \\end{pmatrix}$\n",
        "\n",
        "<!-- ::: -->\n",
        "\n",
        "<!-- ::: .option(correct) -->\n",
        "\n",
        "$\\begin{pmatrix} 1 \\\\ 0 \\\\ 0 \\end{pmatrix}$\n",
        "\n",
        "<!-- ::: -->\n",
        "\n",
        "<!-- ::: -->\n",
        "\n",
        "<!-- ::: -->"
      ]
    },
    {
      "cell_type": "markdown",
      "metadata": {
      },
      "source": [
        "## Questionnaire 1-2"
      ]
    },
    {
      "cell_type": "markdown",
      "metadata": {
      },
      "source": [
        "<!-- ::: q-block.exercise -->\n",
        "\n",
        "### Questionnaire 1-2\n",
        "\n",
        "<!-- ::: q-quiz(goal=\"utokyo_01_2\") -->\n",
        "\n",
        "<!-- ::: .question -->\n",
        "\n",
        "Lequel des éléments suivants est un vecteur d'état quantique ?\n",
        "\n",
        "<!-- ::: -->\n",
        "\n",
        "<!-- ::: .option -->\n",
        "\n",
        "$\\begin{pmatrix} \\sqrt{2}\\\\ 1 - \\sqrt{2} \\end{pmatrix}$\n",
        "\n",
        "<!-- ::: -->\n",
        "\n",
        "<!-- ::: .option(correct) -->\n",
        "\n",
        "$\\begin{pmatrix} -\\frac{1+2i}{3} \\\\ -\\frac{2}{3} \\end{pmatrix}$\n",
        "\n",
        "<!-- ::: -->\n",
        "\n",
        "<!-- ::: .option -->\n",
        "\n",
        "$\\begin{pmatrix} 1 \\\\ 0 \\\\ 1 \\end{pmatrix}$\n",
        "\n",
        "<!-- ::: -->\n",
        "\n",
        "<!-- ::: -->\n",
        "\n",
        "<!-- ::: -->"
      ]
    },
    {
      "cell_type": "markdown",
      "metadata": {
      },
      "source": [
        "## Test 1-3"
      ]
    },
    {
      "cell_type": "markdown",
      "metadata": {
      },
      "source": [
        "<!-- ::: q-block.exercise -->\n",
        "\n",
        "### Test 1-3\n",
        "\n",
        "<!-- ::: q-quiz(goal=\"utokyo_01_3\") -->\n",
        "\n",
        "<!-- ::: .question -->\n",
        "\n",
        "Lequel des suivants est un opérateur déterministe ?\n",
        "\n",
        "<!-- ::: -->\n",
        "\n",
        "<!-- ::: .option -->\n",
        "\n",
        "$\\begin{pmatrix} 1 &amp; 0 \\\\ 1 &amp; 0 \\end{pmatrix}$\n",
        "\n",
        "<!-- ::: -->\n",
        "\n",
        "<!-- ::: .option -->\n",
        "\n",
        "$\\begin{pmatrix} 0 &amp; \\frac{1}{2} \\\\ \\frac{-i}{2} &amp; 0 \\end{pmatrix}$\n",
        "\n",
        "<!-- ::: -->\n",
        "\n",
        "<!-- ::: .option -->\n",
        "\n",
        "$\\begin{pmatrix} 1 &amp; 0 \\\\ 0 &amp; i \\end{pmatrix}$\n",
        "\n",
        "<!-- ::: -->\n",
        "\n",
        "<!-- ::: .option(correct) -->\n",
        "\n",
        "$\\begin{pmatrix} 0 &amp; 0 \\\\ 1 &amp; 1 \\end{pmatrix}$\n",
        "\n",
        "<!-- ::: -->\n",
        "\n",
        "<!-- ::: -->\n",
        "\n",
        "<!-- ::: -->"
      ]
    },
    {
      "cell_type": "markdown",
      "metadata": {
      },
      "source": [
        "## Test 1-4"
      ]
    },
    {
      "cell_type": "markdown",
      "metadata": {
      },
      "source": [
        "<!-- ::: q-block.exercise -->\n",
        "\n",
        "### Test 1-4\n",
        "\n",
        "<!-- ::: q-quiz(goal=\"utokyo_01_4\") -->\n",
        "\n",
        "<!-- ::: .question -->\n",
        "\n",
        "Lequel des suivants est un opérateur probabiliste ?\n",
        "\n",
        "<!-- ::: -->\n",
        "\n",
        "<!-- ::: .option -->\n",
        "\n",
        "$\\begin{pmatrix} 1 &amp; 0 \\\\ 1 &amp; 0 \\end{pmatrix}$\n",
        "\n",
        "<!-- ::: -->\n",
        "\n",
        "<!-- ::: .option(correct) -->\n",
        "\n",
        "$\\begin{pmatrix} \\frac{1}{2} &amp; 0 \\\\ \\frac{1}{2} &amp; 1 \\end{pmatrix}$\n",
        "\n",
        "<!-- ::: -->\n",
        "\n",
        "<!-- ::: .option -->\n",
        "\n",
        "$\\begin{pmatrix} 1 &amp; 0 \\\\ 0 &amp; i \\end{pmatrix}$\n",
        "\n",
        "<!-- ::: -->\n",
        "\n",
        "<!-- ::: .option -->\n",
        "\n",
        "$\\begin{pmatrix} 0 &amp; \\frac{1}{2} \\\\ \\frac{-i}{2} &amp; 0 \\end{pmatrix}$\n",
        "\n",
        "<!-- ::: -->\n",
        "\n",
        "<!-- ::: -->\n",
        "\n",
        "<!-- ::: -->"
      ]
    },
    {
      "cell_type": "markdown",
      "metadata": {
      },
      "source": [
        "## Test 1-5"
      ]
    },
    {
      "cell_type": "markdown",
      "metadata": {
      },
      "source": [
        "<!-- ::: q-block.exercise -->\n",
        "\n",
        "### Test 1-5\n",
        "\n",
        "<!-- ::: q-quiz(goal=\"utokyo_01_5\") -->\n",
        "\n",
        "<!-- ::: .question -->\n",
        "\n",
        "Lequel des éléments suivants est unitaire ?\n",
        "\n",
        "<!-- ::: -->\n",
        "\n",
        "<!-- ::: .option -->\n",
        "\n",
        "$\\begin{pmatrix} 1 &amp; 0 \\\\ 1 &amp; 0 \\end{pmatrix}$\n",
        "\n",
        "<!-- ::: -->\n",
        "\n",
        "<!-- ::: .option -->\n",
        "\n",
        "$\\begin{pmatrix} 0 &amp; \\frac{1}{2} \\\\ \\frac{-i}{2} &amp; 0 \\end{pmatrix}$\n",
        "\n",
        "<!-- ::: -->\n",
        "\n",
        "<!-- ::: .option(correct) -->\n",
        "\n",
        "$\\begin{pmatrix} 1 &amp; 0 \\\\ 0 &amp; i \\end{pmatrix}$\n",
        "\n",
        "<!-- ::: -->\n",
        "\n",
        "<!-- ::: -->\n",
        "\n",
        "<!-- ::: -->"
      ]
    },
    {
      "cell_type": "markdown",
      "metadata": {
      },
      "source": [
        "## Test 1-6"
      ]
    },
    {
      "cell_type": "markdown",
      "metadata": {
      },
      "source": [
        "<!-- ::: q-block.exercise -->\n",
        "\n",
        "### Test 1-6\n",
        "\n",
        "<!-- ::: q-quiz(goal=\"utokyo_01_6\") -->\n",
        "\n",
        "<!-- ::: .question -->\n",
        "\n",
        "Les probabilités de résultat en 0 et 1 en mesurant l'état plus ou l'état moins sont les mêmes que les mesures de base standard.\n",
        "\n",
        "<!-- ::: -->\n",
        "\n",
        "<!-- ::: .option(correct) -->\n",
        "\n",
        "Oui\n",
        "\n",
        "<!-- ::: -->\n",
        "\n",
        "<!-- ::: .option -->\n",
        "\n",
        "Non\n",
        "\n",
        "<!-- ::: -->\n",
        "\n",
        "<!-- ::: -->\n",
        "\n",
        "<!-- ::: -->"
      ]
    },
    {
      "cell_type": "markdown",
      "metadata": {
      },
      "source": [
        "## Questionnaire 1-7"
      ]
    },
    {
      "cell_type": "markdown",
      "metadata": {
      },
      "source": [
        "<!-- ::: q-block.exercise -->\n",
        "\n",
        "### Questionnaire 1-7\n",
        "\n",
        "<!-- ::: q-quiz(goal=\"utokyo_01_7\") -->\n",
        "\n",
        "<!-- ::: .question -->\n",
        "\n",
        "Quelle opération est égale à $ HZH $ ?\n",
        "\n",
        "<!-- ::: -->\n",
        "\n",
        "<!-- ::: .option(correct) -->\n",
        "\n",
        "$X$\n",
        "\n",
        "<!-- ::: -->\n",
        "\n",
        "<!-- ::: .option -->\n",
        "\n",
        "$Y$\n",
        "\n",
        "<!-- ::: -->\n",
        "\n",
        "<!-- ::: .option -->\n",
        "\n",
        "$Z$\n",
        "\n",
        "<!-- ::: -->\n",
        "\n",
        "<!-- ::: .option -->\n",
        "\n",
        "$H$\n",
        "\n",
        "<!-- ::: -->\n",
        "\n",
        "<!-- ::: -->\n",
        "\n",
        "<!-- ::: -->"
      ]
    },
    {
      "cell_type": "markdown",
      "metadata": {
      },
      "source": [
        "## Questionnaire 1-8"
      ]
    },
    {
      "cell_type": "markdown",
      "metadata": {
      },
      "source": [
        "<!-- ::: q-block.exercise -->\n",
        "\n",
        "### Questionnaire 1-8\n",
        "\n",
        "<!-- ::: q-quiz(goal=\"utokyo_01_8\") -->\n",
        "\n",
        "<!-- ::: .question -->\n",
        "\n",
        "Quelle opération est égale à $ HXH $ ?\n",
        "\n",
        "<!-- ::: -->\n",
        "\n",
        "<!-- ::: .option -->\n",
        "\n",
        "$X$\n",
        "\n",
        "<!-- ::: -->\n",
        "\n",
        "<!-- ::: .option -->\n",
        "\n",
        "$Y$\n",
        "\n",
        "<!-- ::: -->\n",
        "\n",
        "<!-- ::: .option(correct) -->\n",
        "\n",
        "$Z$\n",
        "\n",
        "<!-- ::: -->\n",
        "\n",
        "<!-- ::: .option -->\n",
        "\n",
        "$H$\n",
        "\n",
        "<!-- ::: -->\n",
        "\n",
        "<!-- ::: -->\n",
        "\n",
        "<!-- ::: -->"
      ]
    },
    {
      "cell_type": "markdown",
      "metadata": {
      },
      "source": [
        "## Questionnaire 1-9"
      ]
    },
    {
      "cell_type": "markdown",
      "metadata": {
      },
      "source": [
        "<!-- ::: q-block.exercise -->\n",
        "\n",
        "### Questionnaire 1-9\n",
        "\n",
        "<!-- ::: q-quiz(goal=\"utokyo_01_9\") -->\n",
        "\n",
        "<!-- ::: .question -->\n",
        "\n",
        "Qu'est-ce que $ S|-\\rangle$ ?\n",
        "\n",
        "<!-- ::: -->\n",
        "\n",
        "<!-- ::: .option -->\n",
        "\n",
        "$\\frac{1}{\\sqrt{2}}|0\\rangle + \\frac{1}{\\sqrt{2}}|1\\rangle$\n",
        "\n",
        "<!-- ::: -->\n",
        "\n",
        "<!-- ::: .option -->\n",
        "\n",
        "$\\frac{1}{\\sqrt{2}}|0\\rangle -\\frac{1}{\\sqrt{2}}|1\\rangle$\n",
        "\n",
        "<!-- ::: -->\n",
        "\n",
        "<!-- ::: .option -->\n",
        "\n",
        "$\\frac{1}{\\sqrt{2}}|0\\rangle +\\frac{i}{\\sqrt{2}}|1\\rangle$\n",
        "\n",
        "<!-- ::: -->\n",
        "\n",
        "<!-- ::: .option(correct) -->\n",
        "\n",
        "$\\frac{1}{\\sqrt{2}}|0\\rangle -\\frac{i}{\\sqrt{2}}|1\\rangle$\n",
        "\n",
        "<!-- ::: -->\n",
        "\n",
        "<!-- ::: -->\n",
        "\n",
        "<!-- ::: -->"
      ]
    },
    {
      "cell_type": "markdown",
      "metadata": {
      },
      "source": [
        "## Questionnaire 1-10"
      ]
    },
    {
      "cell_type": "markdown",
      "metadata": {
      },
      "source": [
        "<!-- ::: q-block.exercise -->\n",
        "\n",
        "### Questionnaire 1-10\n",
        "\n",
        "<!-- ::: q-quiz(goal=\"utokyo_01_10\") -->\n",
        "\n",
        "<!-- ::: .question -->\n",
        "\n",
        "Les matrices de permutation sont les seules matrices qui peuvent représenter à la fois des opérations classiques et quantiques.\n",
        "\n",
        "<!-- ::: -->\n",
        "\n",
        "<!-- ::: .option(correct) -->\n",
        "\n",
        "Oui\n",
        "\n",
        "<!-- ::: -->\n",
        "\n",
        "<!-- ::: .option -->\n",
        "\n",
        "Non\n",
        "\n",
        "<!-- ::: -->\n",
        "\n",
        "<!-- ::: -->\n",
        "\n",
        "<!-- ::: -->"
      ]
    },
    {
      "cell_type": "markdown",
      "metadata": {
      },
      "source": [
        "C'est la fin du quiz de cette semaine !\n",
        "\n",
        "**Veuillez prendre une capture d'écran et la soumettre à ITC-LMS.**"
      ]
    }
  ],
  "metadata": {
    "kernelspec": {
      "display_name": "Python 3",
      "language": "python",
      "name": "python3"
    },
    "language_info": {
      "codemirror_mode": {
        "name": "ipython",
        "version": 3
      },
      "file_extension": ".py",
      "mimetype": "text/x-python",
      "name": "python",
      "nbconvert_exporter": "python",
      "pygments_lexer": "ipython3",
      "version": "3.9"
    }
  },
  "nbformat": 4,
  "nbformat_minor": 4
}
