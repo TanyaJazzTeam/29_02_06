{
  "metadata": {
    "language_info": {
      "codemirror_mode": {
        "name": "python",
        "version": 3
      },
      "file_extension": ".py",
      "mimetype": "text/x-python",
      "name": "python",
      "nbconvert_exporter": "python",
      "pygments_lexer": "ipython3",
      "version": "3.8"
    },
    "kernelspec": {
      "name": "python",
      "display_name": "Python (Pyodide)",
      "language": "python"
    }
  },
  "nbformat_minor": 4,
  "nbformat": 4,
  "cells": [
    {
      "cell_type": "markdown",
      "source": "## Tables",
      "metadata": {}
    },
    {
      "cell_type": "markdown",
      "source": "Tables are supported with standard markup. Here's a typical table with a\nheading row, several regular rows, and a row marked up as `<tr class=\"alt\">`,\nwhich produces a darker background that can be used as an alternate header.",
      "metadata": {}
    },
    {
      "cell_type": "markdown",
      "source": "### Responsive tables\n\nTo make a table responsive, add the `responsive` class to the table.",
      "metadata": {}
    },
    {
      "cell_type": "code",
      "source": "<!---->\n\n    <table class=\"responsive\">\n      <tbody>\n        <tr>\n          <th colspan=2>Parameters</th>\n        </tr>\n        <tr>\n          <td>\n            <code>value</code>\n          </td>\n          <td>\n            <code>String</code><br>\n            the choice's value, which respondents see as a label when viewing the form\n          </td>\n        </tr>\n        <tr>\n          <td>\n            <code>navigationType</code>\n          </td>\n          <td>\n            <code>\n              <a href=\"#\">PageNavigationType</a>\n            </code>\n            <br>the choice's navigation type\n          </td>\n        </tr>\n      </tbody>\n    </table>",
      "metadata": {},
      "execution_count": null,
      "outputs": []
    },
    {
      "cell_type": "code",
      "source": "# Invisible tables\n\nYou can arrange text in columns, or otherwise make a table invisible, using\n`<table class=\"columns\">...</table>`. This is typically used for arranging\nlong narrow lists.",
      "metadata": {},
      "execution_count": null,
      "outputs": []
    },
    {
      "cell_type": "code",
      "source": "<html>\n<head>\n\t<title>Много форм</title>\n\n</head>\n<body bgcolor=\"#a6ebc2\">\n\t<h3>Какое блюдо будете заказывать?</h3>\n\t<form>\n\t\t<span style=\"background-color: #c2a6eb\">Пицца<input type=\"checkbox\" name=\"pizza\" style=\"margin-left: 50px\"></span><br>\n\t\t<span>Хот-дог<input type=\"checkbox\" name=\"pizza\" style=\"margin-left: 41px\"></span><br>\n\t\t<span style=\"background-color: #c2a6eb\">Гамбургер<input type=\"checkbox\" name=\"pizza\" style=\"margin-left: 23px\"></span><br>\n\t\t<span >Попкорн<input type=\"checkbox\" name=\"pizza\" style=\"margin-left: 34px\"></span><br>\n\t\t<span style=\"background-color: #c2a6eb\">Чупа-чупс<input type=\"checkbox\" name=\"pizza\" style=\"margin-left: 23px\"></span><br>\n\t\t\t<input type=\"submit\" name=\"\" value=\"Отправить\">\n\t\t\t<input type=\"reset\" value=\"Очистить\">\n\t</form>\n\t<hr>\n\t<h3>Куда доставить заказ?</h3>\n\t<form>\n\t\t<font>Имя:</font>\n\t\t\t<input name=\"Имя\" value=\"\" maxlength=\"20\" size=\"20\"><br>\n\t\t<font>Фамилия:</font>\n\t\t\t<input name=\"Фамилия\" value=\"\" maxlength=\"20\" size=\"20\"><br>\n\t\t<font>eMail:</font>\n\t\t\t<input name=\"eMail\" value=\"\" maxlength=\"20\" size=\"20\">\n\t\t\t<select>\n\t\t\t\t<option>@mail.ru</option>\n\t\t\t\t<option>@gmail.com</option>\n\t\t\t\t<option>@outlook.com</option>\n\t\t\t\t<option>@yandex.ru</option>\n\t\t\t\t<option>@tut.by</option>\n\t\t\t</select><br>\n\t\tУлица:<select>\n\t\t\t\t<option>Кирова</option>\n\t\t\t\t<option>Молодежная</option>\n\t\t\t\t<option>Платонова</option>\n\t\t\t\t<option>Вокзальная</option>\n\t\t\t\t<option>Восточная</option>\n\t\t\t</select><br>\n\t\tГород:<select>\n\t\t\t\t<option>Минск</option>\n\t\t\t\t<option>Москва</option>\n\t\t\t\t<option>Брест</option>\n\t\t\t\t<option>Новосибирск</option>\n\t\t\t\t<option>Могилев</option>\n\t\t\t</select><br>\n\t\t\t<input type=\"submit\" name=\"\" value=\"Отправить\">\n\t\t\t<input type=\"reset\" value=\"Очистить\">\n\t\t\t<hr>\n\t</form>\n\t<form>\n\t\t<table border style=\"border-collapse: collapse;\">\n\t\t<tr>\n\t\t\t<td><input type=\"radio\" name=\"b\" checked>Наличными</td>\n\t\t</tr>\n\t\t<tr>\n\t\t\t<td><input type=\"radio\" name=\"b\" checked>Чеком</td>\n\t\t</tr>\n\t\t<tr>\n\t\t\t<td><input type=\"radio\" name=\"b\" checked>Дебитной картой</td>\n\t\t</tr>\n\t\t<tr>\n\t\t\t<td>\n\t\t\t<ul style=\"list-style: none;\">\n\t\t\t\t<li><input type=\"radio\" name=\"b\" checked>Кредитной картой</li>\n\t\t\t\t\t<ul style=\"list-style: none;\">\n\t\t\t\t\t\t<li><input type=\"radio\" name=\"c\">MasterCard</li>\n\t\t\t\t\t\t<li><input type=\"radio\" name=\"c\">Visa</li>\n\t\t\t\t\t\t<li><input type=\"radio\" name=\"c\">Discovery</li>\n\t\t\t\t\t\t<li><input type=\"radio\" name=\"c\">American Express</li>\n\t\t\t\t\t</ul>\n\t\t\t</ul>\n\t\t\t</td>\n\t\t</tr>\n\t\t</table>\n\t\t<input type=\"submit\" name=\"\" value=\"Отправить\">\n\t\t\t<input type=\"reset\" value=\"Очистить\">\n\t</form>\n\n</body>\n</html>",
      "metadata": {},
      "execution_count": null,
      "outputs": []
    },
    {
      "cell_type": "markdown",
      "source": "# Invisible tables",
      "metadata": {}
    }
  ]
}